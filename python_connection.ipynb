{
 "cells": [
  {
   "cell_type": "code",
   "execution_count": 1,
   "metadata": {},
   "outputs": [
    {
     "name": "stdout",
     "output_type": "stream",
     "text": [
      "Collecting mysql-connector-python\n",
      "  Downloading mysql_connector_python-8.4.0-cp311-cp311-win_amd64.whl (14.5 MB)\n",
      "                                              0.0/14.5 MB ? eta -:--:--\n",
      "                                             0.0/14.5 MB 653.6 kB/s eta 0:00:23\n",
      "                                              0.2/14.5 MB 1.7 MB/s eta 0:00:09\n",
      "                                              0.3/14.5 MB 2.1 MB/s eta 0:00:07\n",
      "     -                                        0.5/14.5 MB 2.6 MB/s eta 0:00:06\n",
      "     --                                       0.8/14.5 MB 3.4 MB/s eta 0:00:05\n",
      "     ---                                      1.1/14.5 MB 3.9 MB/s eta 0:00:04\n",
      "     ----                                     1.5/14.5 MB 4.4 MB/s eta 0:00:03\n",
      "     -----                                    2.0/14.5 MB 5.2 MB/s eta 0:00:03\n",
      "     -------                                  2.6/14.5 MB 6.0 MB/s eta 0:00:02\n",
      "     --------                                 3.0/14.5 MB 6.5 MB/s eta 0:00:02\n",
      "     ---------                                3.4/14.5 MB 7.0 MB/s eta 0:00:02\n",
      "     ----------                               3.9/14.5 MB 7.1 MB/s eta 0:00:02\n",
      "     -----------                              4.3/14.5 MB 7.2 MB/s eta 0:00:02\n",
      "     ------------                             4.4/14.5 MB 6.6 MB/s eta 0:00:02\n",
      "     ---------------                          5.5/14.5 MB 7.8 MB/s eta 0:00:02\n",
      "     -----------------                        6.4/14.5 MB 8.3 MB/s eta 0:00:01\n",
      "     --------------------                     7.4/14.5 MB 9.1 MB/s eta 0:00:01\n",
      "     -----------------------                  8.5/14.5 MB 9.9 MB/s eta 0:00:01\n",
      "     -------------------------                9.1/14.5 MB 10.0 MB/s eta 0:00:01\n",
      "     ----------------------------            10.6/14.5 MB 12.6 MB/s eta 0:00:01\n",
      "     ------------------------------          11.2/14.5 MB 13.9 MB/s eta 0:00:01\n",
      "     ---------------------------------       12.4/14.5 MB 16.4 MB/s eta 0:00:01\n",
      "     -----------------------------------     13.3/14.5 MB 16.8 MB/s eta 0:00:01\n",
      "     --------------------------------------  14.3/14.5 MB 18.7 MB/s eta 0:00:01\n",
      "     --------------------------------------  14.4/14.5 MB 18.7 MB/s eta 0:00:01\n",
      "     --------------------------------------- 14.5/14.5 MB 17.2 MB/s eta 0:00:00\n",
      "Installing collected packages: mysql-connector-python\n",
      "Successfully installed mysql-connector-python-8.4.0\n"
     ]
    },
    {
     "name": "stderr",
     "output_type": "stream",
     "text": [
      "\n",
      "[notice] A new release of pip is available: 23.1.2 -> 24.0\n",
      "[notice] To update, run: python.exe -m pip install --upgrade pip\n"
     ]
    }
   ],
   "source": [
    "# !pip install mysql-connector-python"
   ]
  },
  {
   "cell_type": "code",
   "execution_count": 8,
   "metadata": {},
   "outputs": [
    {
     "name": "stdout",
     "output_type": "stream",
     "text": [
      "CMySQLCursor: (Nothing executed yet)\n"
     ]
    }
   ],
   "source": [
    "# Python program to connect\n",
    "# to mysql database\n",
    "\n",
    "# https://www.geeksforgeeks.org/connect-mysql-database-using-mysql-connector-python/\n",
    "\n",
    "\n",
    "import mysql.connector \n",
    "\n",
    "# Connecting to the server\n",
    "conn = mysql.connector.connect(user = 'root', host = 'localhost', password = '')\n",
    "\n",
    "print(conn.cursor())\n",
    "\n",
    "# Disconnecting from the server\n",
    "# conn.close()\n"
   ]
  },
  {
   "cell_type": "code",
   "execution_count": 2,
   "metadata": {},
   "outputs": [],
   "source": [
    "# importing required libraries\n",
    "import mysql.connector\n",
    "\n",
    "db = mysql.connector.connect(\n",
    "host =\"localhost\",\n",
    "user =\"root\",\n",
    "password = \"\",\n",
    "database = \"YASH\"\n",
    ")\n",
    "\n",
    "# preparing a cursor object\n",
    "cursorObject = db.cursor()\n",
    "\n",
    "# creating table \n",
    "studentRecord = \"\"\"CREATE TABLE STUDENT \n",
    "(\n",
    "\t\t\t\tNAME VARCHAR(20) NOT NULL,\n",
    "\t\t\t\tBRANCH VARCHAR(50),\n",
    "\t\t\t\tROLL INT NOT NULL,\n",
    "\t\t\t\tSECTION VARCHAR(5),\n",
    "\t\t\t\tAGE INT\n",
    "\t\t\t\t)\"\"\"\n",
    "\n",
    "# table created\n",
    "cursorObject.execute(studentRecord) \n",
    "\n",
    "# disconnecting from server\n",
    "db.close()\n"
   ]
  },
  {
   "cell_type": "code",
   "execution_count": 1,
   "metadata": {},
   "outputs": [],
   "source": [
    "# importing required libraries\n",
    "import mysql.connector\n",
    "\n",
    "dataBase = mysql.connector.connect(\n",
    "host =\"localhost\",\n",
    "user =\"root\",\n",
    "passwd =\"\"\n",
    ")\n",
    "\n",
    "# preparing a cursor object\n",
    "cursorObject = dataBase.cursor()\n",
    "\n",
    "# creating database \n",
    "cursorObject.execute(\"CREATE DATABASE YASH\")\n",
    "\n"
   ]
  },
  {
   "cell_type": "code",
   "execution_count": 2,
   "metadata": {},
   "outputs": [
    {
     "name": "stdout",
     "output_type": "stream",
     "text": [
      "Error while connecting to MySQL 1049 (42000): Unknown database 'electronics'\n"
     ]
    },
    {
     "ename": "NameError",
     "evalue": "name 'connection' is not defined",
     "output_type": "error",
     "traceback": [
      "\u001b[1;31m---------------------------------------------------------------------------\u001b[0m",
      "\u001b[1;31mNameError\u001b[0m                                 Traceback (most recent call last)",
      "Cell \u001b[1;32mIn[2], line 22\u001b[0m\n\u001b[0;32m     20\u001b[0m     \u001b[38;5;28mprint\u001b[39m(\u001b[38;5;124m\"\u001b[39m\u001b[38;5;124mError while connecting to MySQL\u001b[39m\u001b[38;5;124m\"\u001b[39m, e)\n\u001b[0;32m     21\u001b[0m \u001b[38;5;28;01mfinally\u001b[39;00m:\n\u001b[1;32m---> 22\u001b[0m     \u001b[38;5;28;01mif\u001b[39;00m \u001b[43mconnection\u001b[49m\u001b[38;5;241m.\u001b[39mis_connected():\n\u001b[0;32m     23\u001b[0m         cursor\u001b[38;5;241m.\u001b[39mclose()\n\u001b[0;32m     24\u001b[0m         connection\u001b[38;5;241m.\u001b[39mclose()\n",
      "\u001b[1;31mNameError\u001b[0m: name 'connection' is not defined"
     ]
    }
   ],
   "source": [
    "# https://pynative.com/python-mysql-database-connection/\n",
    "\n",
    "import mysql.connector\n",
    "from mysql.connector import Error\n",
    "\n",
    "try:\n",
    "    connection = mysql.connector.connect(host='localhost',\n",
    "                                         database='Electronics',\n",
    "                                         user='root',\n",
    "                                         password='')\n",
    "    if connection.is_connected():\n",
    "        db_Info = connection.get_server_info()\n",
    "        print(\"Connected to MySQL Server version \", db_Info)\n",
    "        cursor = connection.cursor()\n",
    "        cursor.execute(\"select database();\")\n",
    "        record = cursor.fetchone()\n",
    "        print(\"You're connected to database: \", record)\n",
    "\n",
    "except Error as e:\n",
    "    print(\"Error while connecting to MySQL\", e)\n",
    "finally:\n",
    "    if connection.is_connected():\n",
    "        cursor.close()\n",
    "        connection.close()\n",
    "        print(\"MySQL connection is closed\")"
   ]
  },
  {
   "cell_type": "code",
   "execution_count": null,
   "metadata": {},
   "outputs": [],
   "source": []
  }
 ],
 "metadata": {
  "kernelspec": {
   "display_name": "rnw",
   "language": "python",
   "name": "python3"
  },
  "language_info": {
   "codemirror_mode": {
    "name": "ipython",
    "version": 3
   },
   "file_extension": ".py",
   "mimetype": "text/x-python",
   "name": "python",
   "nbconvert_exporter": "python",
   "pygments_lexer": "ipython3",
   "version": "3.11.4"
  }
 },
 "nbformat": 4,
 "nbformat_minor": 2
}
